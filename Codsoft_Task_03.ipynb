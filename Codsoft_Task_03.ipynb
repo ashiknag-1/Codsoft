{
  "nbformat": 4,
  "nbformat_minor": 0,
  "metadata": {
    "colab": {
      "provenance": []
    },
    "kernelspec": {
      "name": "python3",
      "display_name": "Python 3"
    },
    "language_info": {
      "name": "python"
    }
  },
  "cells": [
    {
      "cell_type": "markdown",
      "source": [
        "# **TASK-3: RECOMMENDATION SYSTEM\n",
        "\n",
        "---\n",
        "\n"
      ],
      "metadata": {
        "id": "K-sbSHLUuCZU"
      }
    },
    {
      "cell_type": "code",
      "execution_count": 9,
      "metadata": {
        "colab": {
          "base_uri": "https://localhost:8080/"
        },
        "id": "23eQGDjgt_GR",
        "outputId": "e49a1d58-6b6b-4936-cef6-fd26d439daa0"
      },
      "outputs": [
        {
          "output_type": "stream",
          "name": "stdout",
          "text": [
            "Recommended Movies for User 5: movie_id\n",
            "3    6.0\n",
            "4    6.0\n",
            "dtype: float64\n"
          ]
        }
      ],
      "source": [
        "import numpy as np\n",
        "import pandas as pd\n",
        "from sklearn.metrics.pairwise import cosine_similarity\n",
        "\n",
        "# Example initial dataset: Users' ratings for various movies\n",
        "data = {\n",
        "    'user_id': [1, 1, 1, 2, 2, 2, 3, 3, 4, 4],\n",
        "    'movie_id': [1, 2, 3, 1, 2, 4, 2, 3, 1, 4],\n",
        "    'rating': [5, 4, 3, 4, 5, 2, 2, 3, 5, 4]\n",
        "}\n",
        "\n",
        "# Convert to a DataFrame\n",
        "df = pd.DataFrame(data)\n",
        "\n",
        "# Create a pivot table with users as rows and movies as columns\n",
        "user_movie_matrix = df.pivot_table(index='user_id', columns='movie_id', values='rating')\n",
        "\n",
        "# Fill NaN values with 0 (could also use other methods like mean rating)\n",
        "user_movie_matrix.fillna(0, inplace=True)\n",
        "\n",
        "# Compute the cosine similarity between users\n",
        "user_similarity = cosine_similarity(user_movie_matrix)\n",
        "\n",
        "# Convert the similarity matrix to a DataFrame\n",
        "user_similarity_df = pd.DataFrame(user_similarity, index=user_movie_matrix.index, columns=user_movie_matrix.index)\n",
        "\n",
        "def update_user_ratings(user_id, movie_ratings):\n",
        "    \"\"\"\n",
        "    Update the user-movie matrix with real-time user ratings.\n",
        "\n",
        "    :param user_id: ID of the user\n",
        "    :param movie_ratings: Dictionary of {movie_id: rating} for the user\n",
        "    \"\"\"\n",
        "    global user_movie_matrix\n",
        "\n",
        "    for movie_id, rating in movie_ratings.items():\n",
        "        user_movie_matrix.loc[user_id, movie_id] = rating\n",
        "\n",
        "    # Fill NaN values with 0\n",
        "    user_movie_matrix.fillna(0, inplace=True)\n",
        "\n",
        "    # Recompute the cosine similarity matrix\n",
        "    global user_similarity_df\n",
        "    user_similarity = cosine_similarity(user_movie_matrix)\n",
        "    user_similarity_df = pd.DataFrame(user_similarity, index=user_movie_matrix.index, columns=user_movie_matrix.index)\n",
        "\n",
        "def get_recommendations(user_id, num_recommendations=2):\n",
        "    \"\"\"\n",
        "    Get movie recommendations for a given user.\n",
        "\n",
        "    :param user_id: ID of the user\n",
        "    :param num_recommendations: Number of recommendations to return\n",
        "    :return: Recommended movies as a pandas Series\n",
        "    \"\"\"\n",
        "    similar_users = user_similarity_df[user_id].sort_values(ascending=False)\n",
        "\n",
        "\n",
        "    similar_users = similar_users.drop(user_id)\n",
        "\n",
        "\n",
        "    similar_user_ids = similar_users.index\n",
        "    similar_users_movies = user_movie_matrix.loc[similar_user_ids]\n",
        "\n",
        "\n",
        "    movie_recommendations = similar_users_movies.sum().sort_values(ascending=False)\n",
        "\n",
        "\n",
        "    user_rated_movies = user_movie_matrix.loc[user_id]\n",
        "    movie_recommendations = movie_recommendations.drop(user_rated_movies[user_rated_movies > 0].index, errors='ignore')\n",
        "\n",
        "\n",
        "    return movie_recommendations.head(num_recommendations)\n",
        "\n",
        "\n",
        "user_id = 5\n",
        "new_ratings = {\n",
        "    1: 5,\n",
        "    2: 3\n",
        "}\n",
        "\n",
        "\n",
        "update_user_ratings(user_id, new_ratings)\n",
        "\n",
        "recommended_movies = get_recommendations(user_id=user_id, num_recommendations=2)\n",
        "print(\"Recommended Movies for User 5:\", recommended_movies)"
      ]
    }
  ]
}