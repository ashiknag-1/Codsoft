{
  "nbformat": 4,
  "nbformat_minor": 0,
  "metadata": {
    "colab": {
      "provenance": []
    },
    "kernelspec": {
      "name": "python3",
      "display_name": "Python 3"
    },
    "language_info": {
      "name": "python"
    }
  },
  "cells": [
    {
      "cell_type": "markdown",
      "source": [
        "## **TASK-1: CHATBOT WITH RULE BASED RESPONSES**"
      ],
      "metadata": {
        "id": "rptjssERoz_K"
      }
    },
    {
      "cell_type": "code",
      "execution_count": null,
      "metadata": {
        "colab": {
          "base_uri": "https://localhost:8080/"
        },
        "id": "84ONRVxyoq8Q",
        "outputId": "c0b9f809-106f-435e-aacf-559938279852"
      },
      "outputs": [
        {
          "output_type": "stream",
          "name": "stdout",
          "text": [
            "-----WELCOME TO THE SIMPLE CHATBOT-----\n",
            "You: hi\n",
            "Chatbot: Hello! How can I assist you today?\n",
            "You: who are you\n",
            "Chatbot: I am a simple rule-based chatbot. I'm here to assist you with basic queries!\n",
            "You: what can you do\n",
            "Chatbot: I can respond to greetings, tell you who I am, and even share a joke! Just ask.\n",
            "You: share a joke\n",
            "Chatbot: Why don't skeletons fight each other? They don't have the guts!\n",
            "You: more\n",
            "Chatbot: I'm not sure how to respond to that. Could you please rephrase or ask something else?\n"
          ]
        }
      ],
      "source": [
        "def chatbot_response(user_input):\n",
        "    user_input = user_input.lower()\n",
        "\n",
        "    if any(greeting in user_input for greeting in [\"hello\", \"hi\", \"hey\"]):\n",
        "        return \"Hello! How can I assist you today?\"\n",
        "\n",
        "    elif \"who are you\" in user_input or \"what are you\" in user_input:\n",
        "        return \"I am a simple rule-based chatbot. I'm here to assist you with basic queries!\"\n",
        "\n",
        "    elif \"what can you do\" in user_input or \"help\" in user_input or \"features\" in user_input:\n",
        "        return \"I can respond to greetings, tell you who I am, and even share a joke! Just ask.\"\n",
        "\n",
        "    elif \"thank you\" in user_input or \"thanks\" in user_input:\n",
        "        return \"You're welcome! If you have more questions, feel free to ask.\"\n",
        "\n",
        "    elif \"tell me a joke\" in user_input or \"joke\" in user_input:\n",
        "        return \"Why don't skeletons fight each other? They don't have the guts!\"\n",
        "\n",
        "    else:\n",
        "        return \"I'm not sure how to respond to that. Could you please rephrase or ask something else?\"\n",
        "\n",
        "print(\"-----WELCOME TO THE SIMPLE CHATBOT-----\")\n",
        "active = True\n",
        "\n",
        "while active:\n",
        "    user_input = input(\"You: \")\n",
        "\n",
        "    if user_input.lower() == \"exit\":\n",
        "        print(\"Chatbot: Goodbye!\")\n",
        "        active = False\n",
        "    else:\n",
        "        response = chatbot_response(user_input)\n",
        "        print(\"Chatbot:\", response)"
      ]
    }
  ]
}